{
 "cells": [
  {
   "cell_type": "code",
   "execution_count": 3,
   "metadata": {},
   "outputs": [],
   "source": [
    "# all required imports\n",
    "import json\n",
    "from urllib.request import urlopen\n",
    "import re\n",
    "\n",
    "import nltk\n",
    "from nltk.corpus import stopwords\n",
    "from nltk.tokenize import word_tokenize\n",
    "import pandas as pd\n",
    "import matplotlib.pyplot as plt\n",
    "import praw\n",
    "from sklearn.model_selection import train_test_split\n",
    "from sklearn.feature_extraction.text import CountVectorizer, TfidfVectorizer, TfidfTransformer\n",
    "from sklearn.metrics import accuracy_score, confusion_matrix, classification_report\n",
    "from sklearn.pipeline import Pipeline\n",
    "import numpy as np\n",
    "\n",
    "\n",
    "%matplotlib inline"
   ]
  },
  {
   "cell_type": "markdown",
   "metadata": {},
   "source": [
    "# Part I - Data Collection"
   ]
  },
  {
   "cell_type": "code",
   "execution_count": null,
   "metadata": {},
   "outputs": [],
   "source": [
    "baseurl = 'https://api.pushshift.io/reddit/search/submission/?subreddit=india&sort=desc&sort_type=created_utc&'\n",
    "\n",
    "period = 1 # in years\n",
    "\n",
    "week_seconds = 7 * 24 * 60 * 60\n",
    "week_count = 1\n",
    "start_seconds = int(time.time()) - ((week_count - 1) * week_seconds) # start time of collection\n",
    "\n",
    "all_data = []\n",
    "\n",
    "while week_count <= int(period * 52):\n",
    "    before, after = start_seconds, start_seconds - week_seconds\n",
    "    url = baseurl + 'after={}&before={}&size=1000'.format(after, before)\n",
    "    start_seconds = after\n",
    "    r = urlopen(url).read()\n",
    "    data = json.loads(r.decode('utf-8'))\n",
    "    all_data += data['data']\n",
    "    print(f'Week {week_count}/{period*52} done')\n",
    "    week_count += 1\n",
    "    \n",
    "    \n",
    "all_data_DF = pd.DataFrame(all_data)"
   ]
  },
  {
   "cell_type": "markdown",
   "metadata": {},
   "source": [
    "#### The above collected data contains posts from ```r/india``` , 1000 posts per week of all flairs collected for a year(52 weeks) starting from the day of collection. All the post collected do not have flair associated with them, hence they need to be removed. This dataset doesn't contains comments for each post, PRAW will be used for obtaining the comments for the posts."
   ]
  },
  {
   "cell_type": "code",
   "execution_count": null,
   "metadata": {},
   "outputs": [],
   "source": [
    "all_data_DF = all_data_DF[all_data_DF.link_flair_text.notnull()]\n",
    "all_data_DF.reset_index(drop=True, inplace=True)\n",
    "\n",
    "reddit = praw.Reddit() \n",
    "# praw.ini file contains all the credentials, located in the same directory as this file.\n",
    "def get_submission_comments(sub_url):    \n",
    "    submission = reddit.submission(url=sub_url)\n",
    "    submission.comments.replace_more(limit=0)\n",
    "    comments = submission.comments.list()    \n",
    "    if comments:\n",
    "        all_comments = ' '.join([i.body for i in comments if i.body !='[deleted]'])\n",
    "        return all_comments\n",
    "    else:\n",
    "        return ' '\n",
    "\n",
    "## retreiving all comments for each post, if available    \n",
    "for ind in range(len(all_data_DF)):\n",
    "    if pd.isna(all_data_DF.iloc[ind].comments):\n",
    "        try:\n",
    "            comm = get_submission_comments(all_data_DF.iloc[ind].full_link)\n",
    "        except:\n",
    "            all_data_DF.loc[data.index[ind], 'comments'] = ' '\n",
    "        else:\n",
    "            all_data_DF.loc[data.index[ind], 'comments'] = comm\n",
    "\n",
    "all_data_DF.to_csv('reddit_data.csv', index=False)"
   ]
  },
  {
   "cell_type": "markdown",
   "metadata": {},
   "source": [
    "## Part-2 Exploratory Data Analysis(EDA)"
   ]
  },
  {
   "cell_type": "markdown",
   "metadata": {},
   "source": [
    "#### The above datset has a lot of features , so only key features below have been used and these features are considered with valid reasons in terms of model training.\n",
    "* title\n",
    "* url\n",
    "* selftext\n",
    "* comments\n",
    "* link_flair_text"
   ]
  },
  {
   "cell_type": "code",
   "execution_count": 10,
   "metadata": {},
   "outputs": [],
   "source": [
    "keep_features = ['title','url', 'selftext', 'link_flair_text','comments']"
   ]
  },
  {
   "cell_type": "code",
   "execution_count": 11,
   "metadata": {},
   "outputs": [],
   "source": [
    "all_data_DF = pd.read_csv('reddit_data.csv')"
   ]
  },
  {
   "cell_type": "code",
   "execution_count": 12,
   "metadata": {},
   "outputs": [],
   "source": [
    "data = all_data_DF[keep_features] "
   ]
  },
  {
   "cell_type": "code",
   "execution_count": 13,
   "metadata": {},
   "outputs": [
    {
     "data": {
      "text/plain": [
       "Counter({'Coronavirus': 2092,\n",
       "         'Non-Political': 7102,\n",
       "         'Politics': 7798,\n",
       "         'AskIndia': 4569,\n",
       "         nan: 22026,\n",
       "         'Photography': 847,\n",
       "         'Business/Finance': 1886,\n",
       "         'Science/Technology': 1340,\n",
       "         'Food': 411,\n",
       "         'CAA-NRC-NPR': 21,\n",
       "         'Policy/Economy': 1403,\n",
       "         'All CAPS.': 174,\n",
       "         'Scheduled': 191,\n",
       "         'Sports': 468,\n",
       "         'Low-effort self-post.': 155,\n",
       "         '| Not specific to India |': 22,\n",
       "         '| Not in English |': 7,\n",
       "         'Shitpost': 6,\n",
       "         '| Low-effort Self Post |': 20,\n",
       "         '| Not in English | | Unverified Content / Disreputed Source |': 1,\n",
       "         '| Not specific to India | | Stickied Topic |': 1,\n",
       "         'Low Quality/Non OC Meme': 10,\n",
       "         '| Repost |': 46,\n",
       "         '| Social Media Rules |': 18,\n",
       "         '| Not Original/Relevant Title | | Custom (Informed OP) |': 1,\n",
       "         'Meta.': 9,\n",
       "         '| Custom (Informed OP) |': 3,\n",
       "         '| Not Original/Relevant Title |': 39,\n",
       "         '| Image Rule Violation |': 3,\n",
       "         '| Witch-hunting/Targeting User |': 2,\n",
       "         '| Stickied Topic |': 3,\n",
       "         'Dead Link': 2,\n",
       "         '| Unverified Content / Disreputed Source |': 11,\n",
       "         '| Not in English | | Social Media Rules | Post link Directly': 1,\n",
       "         '| [OLD] Content |': 2,\n",
       "         '| Not specific to India | | Not Original/Relevant Title |': 1,\n",
       "         '| Not Original/Relevant Title | | Social Media Rules |': 1,\n",
       "         'Verified': 1,\n",
       "         'CAA-NRC': 325,\n",
       "         'PARTAYYY AGAIN :D': 1,\n",
       "         'Demonetization': 186,\n",
       "         '| Witch-hunting/Targeting User | Meta.': 1,\n",
       "         'Announcement': 1,\n",
       "         'Post link Directly': 3,\n",
       "         'AMA': 2,\n",
       "         'Foodpolitics': 1,\n",
       "         '| Self-promotion |': 2,\n",
       "         'Casual AMA': 1,\n",
       "         '| Repost | Post link Directly': 1,\n",
       "         'Not Appropriate Subreddit': 2,\n",
       "         '| Personal/Unverified Social Media |': 4,\n",
       "         '| Low-effort Self Post | Post link Directly': 1,\n",
       "         '| Not in English | | Not Original/Relevant Title |': 2,\n",
       "         'Unverified': 1,\n",
       "         'AMA Announcement': 1,\n",
       "         'Aug 2019 - Politics': 1,\n",
       "         '[R]eddiquette': 760,\n",
       "         'Not in English.': 11})"
      ]
     },
     "execution_count": 13,
     "metadata": {},
     "output_type": "execute_result"
    }
   ],
   "source": [
    "from collections import Counter\n",
    "counts = Counter(data['link_flair_text'])\n",
    "counts"
   ]
  },
  {
   "cell_type": "code",
   "execution_count": 14,
   "metadata": {},
   "outputs": [
    {
     "data": {
      "image/png": "[encoded data removed]",
      "text/plain": [
       "<Figure size 720x288 with 1 Axes>"
      ]
     },
     "metadata": {
      "needs_background": "light"
     },
     "output_type": "display_data"
    }
   ],
   "source": [
    "plt.figure(figsize=(10,4))\n",
    "data.link_flair_text.value_counts().plot(kind='bar');"
   ]
  },
  {
   "cell_type": "markdown",
   "metadata": {},
   "source": [
    "## Uni-grams for top n words before removing stop words"
   ]
  },
  {
   "cell_type": "code",
   "execution_count": 18,
   "metadata": {},
   "outputs": [
    {
     "name": "stdout",
     "output_type": "stream",
     "text": [
      "in 15273\n",
      "to 14994\n",
      "the 13788\n",
      "of 11447\n",
      "india 8188\n",
      "for 7449\n",
      "and 7200\n",
      "is 6193\n",
      "on 5909\n",
      "this 3291\n",
      "with 3255\n",
      "from 3212\n",
      "it 2972\n",
      "at 2790\n",
      "indian 2708\n",
      "you 2651\n",
      "are 2634\n",
      "by 2605\n",
      "what 2517\n",
      "how 2281\n"
     ]
    }
   ],
   "source": [
    "from sklearn.feature_extraction.text import CountVectorizer\n",
    "from sklearn.feature_extraction.text import TfidfVectorizer\n",
    "\n",
    "def get_top_n_words(corpus, n=None):\n",
    "    vec = CountVectorizer().fit(corpus)\n",
    "    bag_of_words = vec.transform(corpus)\n",
    "    sum_words = bag_of_words.sum(axis=0) \n",
    "    words_freq = [(word, sum_words[0, idx]) for word, idx in vec.vocabulary_.items()]\n",
    "    words_freq =sorted(words_freq, key = lambda x: x[1], reverse=True)\n",
    "    return words_freq[:n]\n",
    "common_words = get_top_n_words(data['title'], 20)\n",
    "for word, freq in common_words:\n",
    "    print(word, freq)\n",
    "    \n",
    "unig = pd.DataFrame(common_words, columns = ['title' , 'count'])"
   ]
  },
  {
   "cell_type": "code",
   "execution_count": 19,
   "metadata": {},
   "outputs": [
    {
     "data": {
      "text/plain": [
       "<matplotlib.axes._subplots.AxesSubplot at 0x7f86f7d215c0>"
      ]
     },
     "execution_count": 19,
     "metadata": {},
     "output_type": "execute_result"
    },
    {
     "data": {
      "image/png": "[encoded data removed]",
      "text/plain": [
       "<Figure size 432x288 with 1 Axes>"
      ]
     },
     "metadata": {
      "needs_background": "light"
     },
     "output_type": "display_data"
    }
   ],
   "source": [
    "unig.groupby('title').sum()['count'].sort_values(ascending=False).plot(kind='bar')"
   ]
  },
  {
   "cell_type": "markdown",
   "metadata": {},
   "source": [
    "## Uni-grams for top n words after removing stop words"
   ]
  },
  {
   "cell_type": "code",
   "execution_count": 20,
   "metadata": {},
   "outputs": [
    {
     "name": "stdout",
     "output_type": "stream",
     "text": [
      "india 8188\n",
      "indian 2708\n",
      "2019 2023\n",
      "delhi 1780\n",
      "modi 1734\n",
      "amp 1502\n",
      "new 1491\n",
      "says 1477\n",
      "news 1474\n",
      "people 1333\n"
     ]
    }
   ],
   "source": [
    "def get_top_n_words(corpus, n=None):\n",
    "    vec = CountVectorizer(stop_words = 'english').fit(corpus)\n",
    "    bag_of_words = vec.transform(corpus)\n",
    "    sum_words = bag_of_words.sum(axis=0) \n",
    "    words_freq = [(word, sum_words[0, idx]) for word, idx in vec.vocabulary_.items()]\n",
    "    words_freq =sorted(words_freq, key = lambda x: x[1], reverse=True)\n",
    "    return words_freq[:n]\n",
    "common_words = get_top_n_words(data['title'], 10)\n",
    "for word, freq in common_words:\n",
    "    print(word, freq)\n",
    "uni_post = pd.DataFrame(common_words, columns = ['title' , 'count'])"
   ]
  },
  {
   "cell_type": "code",
   "execution_count": 21,
   "metadata": {},
   "outputs": [
    {
     "data": {
      "text/plain": [
       "<matplotlib.axes._subplots.AxesSubplot at 0x7f86f5c347b8>"
      ]
     },
     "execution_count": 21,
     "metadata": {},
     "output_type": "execute_result"
    },
    {
     "data": {
      "image/png": "[encoded data removed]",
      "text/plain": [
       "<Figure size 432x288 with 1 Axes>"
      ]
     },
     "metadata": {
      "needs_background": "light"
     },
     "output_type": "display_data"
    }
   ],
   "source": [
    "uni_post.groupby('title').sum()['count'].sort_values(ascending=False).plot(kind='bar')"
   ]
  },
  {
   "cell_type": "markdown",
   "metadata": {},
   "source": [
    "## Bi-grams for top n words before removing stop words"
   ]
  },
  {
   "cell_type": "code",
   "execution_count": 22,
   "metadata": {},
   "outputs": [
    {
     "name": "stdout",
     "output_type": "stream",
     "text": [
      "in india 2102\n",
      "of the 1241\n",
      "in the 1153\n",
      "of india 912\n",
      "to be 690\n",
      "covid 19 622\n",
      "is the 549\n",
      "on the 544\n",
      "how to 515\n",
      "to the 498\n"
     ]
    }
   ],
   "source": [
    "def get_top_n_bigram(corpus, n=None):\n",
    "    vec = CountVectorizer(ngram_range=(2, 2)).fit(corpus)\n",
    "    bag_of_words = vec.transform(corpus)\n",
    "    sum_words = bag_of_words.sum(axis=0) \n",
    "    words_freq = [(word, sum_words[0, idx]) for word, idx in vec.vocabulary_.items()]\n",
    "    words_freq =sorted(words_freq, key = lambda x: x[1], reverse=True)\n",
    "    return words_freq[:n]\n",
    "common_words = get_top_n_bigram(data['title'], 10)\n",
    "for word, freq in common_words:\n",
    "    print(word, freq)\n",
    "big = pd.DataFrame(common_words, columns = ['title' , 'count'])"
   ]
  },
  {
   "cell_type": "code",
   "execution_count": 23,
   "metadata": {},
   "outputs": [
    {
     "data": {
      "text/plain": [
       "<matplotlib.axes._subplots.AxesSubplot at 0x7f86f1ea7630>"
      ]
     },
     "execution_count": 23,
     "metadata": {},
     "output_type": "execute_result"
    },
    {
     "data": {
      "image/png": "[encoded data removed]",
      "text/plain": [
       "<Figure size 432x288 with 1 Axes>"
      ]
     },
     "metadata": {
      "needs_background": "light"
     },
     "output_type": "display_data"
    }
   ],
   "source": [
    "big.groupby('title').sum()['count'].sort_values(ascending=False).plot(kind='bar')"
   ]
  },
  {
   "cell_type": "markdown",
   "metadata": {},
   "source": [
    "## Bi-grams for top n words after removing stop words"
   ]
  },
  {
   "cell_type": "code",
   "execution_count": 24,
   "metadata": {},
   "outputs": [
    {
     "name": "stdout",
     "output_type": "stream",
     "text": [
      "covid 19 622\n",
      "world cup 387\n",
      "pm modi 362\n",
      "narendra modi 352\n",
      "times india 323\n",
      "year old 313\n",
      "amit shah 262\n",
      "rahul gandhi 253\n",
      "supreme court 227\n",
      "news times 204\n"
     ]
    }
   ],
   "source": [
    "def get_top_n_bigram(corpus, n=None):\n",
    "    vec = CountVectorizer(ngram_range=(2, 2), stop_words='english').fit(corpus)\n",
    "    bag_of_words = vec.transform(corpus)\n",
    "    sum_words = bag_of_words.sum(axis=0) \n",
    "    words_freq = [(word, sum_words[0, idx]) for word, idx in vec.vocabulary_.items()]\n",
    "    words_freq =sorted(words_freq, key = lambda x: x[1], reverse=True)\n",
    "    return words_freq[:n]\n",
    "common_words = get_top_n_bigram(data['title'], 10)\n",
    "for word, freq in common_words:\n",
    "    print(word, freq)\n",
    "big_post = pd.DataFrame(common_words, columns = ['title' , 'count'])"
   ]
  },
  {
   "cell_type": "code",
   "execution_count": 25,
   "metadata": {},
   "outputs": [
    {
     "data": {
      "text/plain": [
       "<matplotlib.axes._subplots.AxesSubplot at 0x7f86e7718e48>"
      ]
     },
     "execution_count": 25,
     "metadata": {},
     "output_type": "execute_result"
    },
    {
     "data": {
      "image/png": "[encoded data removed]",
      "text/plain": [
       "<Figure size 432x288 with 1 Axes>"
      ]
     },
     "metadata": {
      "needs_background": "light"
     },
     "output_type": "display_data"
    }
   ],
   "source": [
    "big_post.groupby('title').sum()['count'].sort_values(ascending=False).plot(kind='bar')"
   ]
  },
  {
   "cell_type": "markdown",
   "metadata": {},
   "source": [
    "## Tri-grams for top n words before removing stop words"
   ]
  },
  {
   "cell_type": "code",
   "execution_count": 26,
   "metadata": {},
   "outputs": [
    {
     "name": "stdout",
     "output_type": "stream",
     "text": [
      "times of india 311\n",
      "news times of 204\n",
      "what is the 134\n",
      "what do you 132\n",
      "do you think 132\n",
      "one of the 129\n",
      "world cup 2019 124\n",
      "price in india 109\n",
      "the big news 109\n",
      "other top stories 109\n"
     ]
    }
   ],
   "source": [
    "def get_top_n_trigram(corpus, n=None):\n",
    "    vec = CountVectorizer(ngram_range=(3, 3)).fit(corpus)\n",
    "    bag_of_words = vec.transform(corpus)\n",
    "    sum_words = bag_of_words.sum(axis=0) \n",
    "    words_freq = [(word, sum_words[0, idx]) for word, idx in vec.vocabulary_.items()]\n",
    "    words_freq =sorted(words_freq, key = lambda x: x[1], reverse=True)\n",
    "    return words_freq[:n]\n",
    "common_words = get_top_n_trigram(data['title'], 10)\n",
    "for word, freq in common_words:\n",
    "    print(word, freq)\n",
    "tri= pd.DataFrame(common_words, columns = ['title' , 'count'])"
   ]
  },
  {
   "cell_type": "code",
   "execution_count": 27,
   "metadata": {},
   "outputs": [
    {
     "data": {
      "text/plain": [
       "<matplotlib.axes._subplots.AxesSubplot at 0x7f86ec75ba20>"
      ]
     },
     "execution_count": 27,
     "metadata": {},
     "output_type": "execute_result"
    },
    {
     "data": {
      "image/png": "[encoded data removed]",
      "text/plain": [
       "<Figure size 432x288 with 1 Axes>"
      ]
     },
     "metadata": {
      "needs_background": "light"
     },
     "output_type": "display_data"
    }
   ],
   "source": [
    "tri.groupby('title').sum()['count'].sort_values(ascending=False).plot(kind='bar')"
   ]
  },
  {
   "cell_type": "markdown",
   "metadata": {},
   "source": [
    "## Tri-grams for top n words after removing stop words"
   ]
  },
  {
   "cell_type": "code",
   "execution_count": 28,
   "metadata": {},
   "outputs": [
    {
     "name": "stdout",
     "output_type": "stream",
     "text": [
      "news times india 204\n",
      "world cup 2019 124\n",
      "random daily discussion 107\n",
      "daily discussion thread 107\n",
      "pm narendra modi 102\n",
      "india news times 95\n",
      "random discussion thread 73\n",
      "late night random 71\n",
      "night random discussion 71\n",
      "2019 09 15am 71\n"
     ]
    }
   ],
   "source": [
    "def get_top_n_trigram(corpus, n=None):\n",
    "    vec = CountVectorizer(ngram_range=(3, 3), stop_words='english').fit(corpus)\n",
    "    bag_of_words = vec.transform(corpus)\n",
    "    sum_words = bag_of_words.sum(axis=0) \n",
    "    words_freq = [(word, sum_words[0, idx]) for word, idx in vec.vocabulary_.items()]\n",
    "    words_freq =sorted(words_freq, key = lambda x: x[1], reverse=True)\n",
    "    return words_freq[:n]\n",
    "common_words = get_top_n_trigram(data['title'], 10)\n",
    "for word, freq in common_words:\n",
    "    print(word, freq)\n",
    "tri_post = pd.DataFrame(common_words, columns = ['title' , 'count'])"
   ]
  },
  {
   "cell_type": "code",
   "execution_count": 29,
   "metadata": {},
   "outputs": [
    {
     "data": {
      "text/plain": [
       "<matplotlib.axes._subplots.AxesSubplot at 0x7f86f52386d8>"
      ]
     },
     "execution_count": 29,
     "metadata": {},
     "output_type": "execute_result"
    },
    {
     "data": {
      "image/png": "[encoded data removed]",
      "text/plain": [
       "<Figure size 432x288 with 1 Axes>"
      ]
     },
     "metadata": {
      "needs_background": "light"
     },
     "output_type": "display_data"
    }
   ],
   "source": [
    "tri_post.groupby('title').sum()['count'].sort_values(ascending=False).plot(kind='bar')"
   ]
  },
  {
   "cell_type": "markdown",
   "metadata": {},
   "source": [
    "## Most Correlated N-grams"
   ]
  },
  {
   "cell_type": "code",
   "execution_count": 32,
   "metadata": {},
   "outputs": [
    {
     "name": "stdout",
     "output_type": "stream",
     "text": [
      "# 'link_flair_text':\n",
      "  . Most correlated unigrams:\n",
      "       . 19\n",
      "       . coronavirus\n",
      "       . cup\n",
      "       . covid\n",
      "       . songs\n",
      "  . Most correlated bigrams:\n",
      "       . hindi gan\n",
      "       . result declared\n",
      "       . big news\n",
      "       . world cup\n",
      "       . covid 19\n",
      "# 'selftext':\n",
      "  . Most correlated unigrams:\n",
      "       . fingerprint\n",
      "       . fingers\n",
      "       . fingerstyle\n",
      "       . findings\n",
      "       . கள\n",
      "  . Most correlated bigrams:\n",
      "       . financial institutions\n",
      "       . financial irregularities\n",
      "       . fined rs\n",
      "       . fingerless corrugation\n",
      "       . fingers crossed\n",
      "# 'title':\n",
      "  . Most correlated unigrams:\n",
      "       . 2019\n",
      "       . modi\n",
      "       . indian\n",
      "       . india\n",
      "       . photography\n",
      "  . Most correlated bigrams:\n",
      "       . times india\n",
      "       . narendra modi\n",
      "       . world cup\n",
      "       . pm modi\n",
      "       . covid 19\n",
      "# 'url':\n",
      "  . Most correlated unigrams:\n",
      "       . fingerprint\n",
      "       . fingers\n",
      "       . fingerstyle\n",
      "       . findings\n",
      "       . கள\n",
      "  . Most correlated bigrams:\n",
      "       . financial institutions\n",
      "       . financial irregularities\n",
      "       . fined rs\n",
      "       . fingerless corrugation\n",
      "       . fingers crossed\n"
     ]
    }
   ],
   "source": [
    "from sklearn.feature_selection import chi2\n",
    "from sklearn.feature_extraction.text import TfidfVectorizer\n",
    "\n",
    "tfidf = TfidfVectorizer(sublinear_tf=True, min_df=5, norm='l2', encoding='latin-1', ngram_range=(1, 2), stop_words='english')\n",
    "\n",
    "features = tfidf.fit_transform(data.title).toarray()\n",
    "labels = data.link_flair_text\n",
    "features.shape\n",
    "\n",
    "N = 5\n",
    "for flair, id in sorted(data.items()):\n",
    "    features_chi2 = chi2(features, labels == id)\n",
    "    indices = np.argsort(features_chi2[0])\n",
    "    feature_names = np.array(tfidf.get_feature_names())[indices]\n",
    "    unigrams = [v for v in feature_names if len(v.split(' ')) == 1]\n",
    "    bigrams = [v for v in feature_names if len(v.split(' ')) == 2]\n",
    "    print(\"# '{}':\".format(flair))\n",
    "    print(\"  . Most correlated unigrams:\\n       . {}\".format('\\n       . '.join(unigrams[-N:])))\n",
    "    print(\"  . Most correlated bigrams:\\n       . {}\".format('\\n       . '.join(bigrams[-N:])))"
   ]
  },
  {
   "cell_type": "markdown",
   "metadata": {},
   "source": [
    "## Top 10 parts of speech tagging for title "
   ]
  },
  {
   "cell_type": "code",
   "execution_count": 33,
   "metadata": {},
   "outputs": [
    {
     "data": {
      "text/plain": [
       "<matplotlib.axes._subplots.AxesSubplot at 0x7f86f32cc320>"
      ]
     },
     "execution_count": 33,
     "metadata": {},
     "output_type": "execute_result"
    },
    {
     "data": {
      "image/png": "[encoded data removed]",
      "text/plain": [
       "<Figure size 432x288 with 1 Axes>"
      ]
     },
     "metadata": {
      "needs_background": "light"
     },
     "output_type": "display_data"
    }
   ],
   "source": [
    "from textblob import TextBlob\n",
    "blob = TextBlob(str(data['title']))\n",
    "pos_df = pd.DataFrame(blob.tags, columns = ['word' , 'pos'])\n",
    "pos_df = pos_df.pos.value_counts()[:10]\n",
    "pos_df.plot(kind='bar', title='Top 10 Part-of-speech tagging for title ')"
   ]
  },
  {
   "cell_type": "markdown",
   "metadata": {},
   "source": [
    "## Topic Modelling with LSA"
   ]
  },
  {
   "cell_type": "code",
   "execution_count": 37,
   "metadata": {},
   "outputs": [],
   "source": [
    "from sklearn.decomposition import TruncatedSVD\n",
    "from scipy.sparse import random as sparse_random\n",
    "from sklearn.random_projection import sparse_random_matrix\n",
    "\n",
    "reindexed_data = data['title']\n",
    "tfidf_vectorizer = TfidfVectorizer(stop_words='english', use_idf=True, smooth_idf=True)\n",
    "reindexed_data = reindexed_data.values\n",
    "document_term_matrix = tfidf_vectorizer.fit_transform(reindexed_data)\n",
    "n_topics = 5\n",
    "lsa_model = TruncatedSVD(n_components=n_topics)\n",
    "lsa_topic_matrix = lsa_model.fit_transform(document_term_matrix)"
   ]
  },
  {
   "cell_type": "code",
   "execution_count": 38,
   "metadata": {},
   "outputs": [],
   "source": [
    "def get_keys(topic_matrix):\n",
    "    '''\n",
    "    returns an integer list of predicted topic \n",
    "    categories for a given topic matrix\n",
    "    '''\n",
    "    keys = topic_matrix.argmax(axis=1).tolist()\n",
    "    return keys\n",
    "\n",
    "def keys_to_counts(keys):\n",
    "    '''\n",
    "    returns a tuple of topic categories and their \n",
    "    accompanying magnitudes for a given list of keys\n",
    "    '''\n",
    "    count_pairs = Counter(keys).items()\n",
    "    categories = [pair[0] for pair in count_pairs]\n",
    "    counts = [pair[1] for pair in count_pairs]\n",
    "    return (categories, counts)"
   ]
  },
  {
   "cell_type": "code",
   "execution_count": 39,
   "metadata": {},
   "outputs": [],
   "source": [
    "def get_top_n_words(n, keys, document_term_matrix, tfidf_vectorizer):\n",
    "    '''\n",
    "    returns a list of n_topic strings, where each string contains the n most common \n",
    "    words in a predicted category, in order\n",
    "    '''\n",
    "    top_word_indices = []\n",
    "    for topic in range(n_topics):\n",
    "        temp_vector_sum = 0\n",
    "        for i in range(len(keys)):\n",
    "            if keys[i] == topic:\n",
    "                temp_vector_sum += document_term_matrix[i]\n",
    "        temp_vector_sum = temp_vector_sum.toarray()\n",
    "        top_n_word_indices = np.flip(np.argsort(temp_vector_sum)[0][-n:],0)\n",
    "        top_word_indices.append(top_n_word_indices)   \n",
    "    top_words = []\n",
    "    for topic in top_word_indices:\n",
    "        topic_words = []\n",
    "        for index in topic:\n",
    "            temp_word_vector = np.zeros((1,document_term_matrix.shape[1]))\n",
    "            temp_word_vector[:,index] = 1\n",
    "            the_word = tfidf_vectorizer.inverse_transform(temp_word_vector)[0][0]\n",
    "            topic_words.append(the_word.encode('ascii').decode('utf-8'))\n",
    "        top_words.append(\" \".join(topic_words))         \n",
    "    return top_words"
   ]
  },
  {
   "cell_type": "code",
   "execution_count": 40,
   "metadata": {},
   "outputs": [
    {
     "name": "stdout",
     "output_type": "stream",
     "text": [
      "Topic 1:  india news coronavirus\n",
      "Topic 2:  2019 new hindi\n",
      "Topic 3:  modi delhi bjp\n",
      "Topic 4:  2020 thread discussion\n",
      "Topic 5:  indian army media\n"
     ]
    }
   ],
   "source": [
    "lsa_keys = get_keys(lsa_topic_matrix)\n",
    "lsa_categories, lsa_counts = keys_to_counts(lsa_keys)\n",
    "top_n_words_lsa = get_top_n_words(3, lsa_keys, document_term_matrix, tfidf_vectorizer)\n",
    "\n",
    "for i in range(len(top_n_words_lsa)):\n",
    "    print(\"Topic {}: \".format(i+1), top_n_words_lsa[i])"
   ]
  },
  {
   "cell_type": "code",
   "execution_count": 41,
   "metadata": {},
   "outputs": [
    {
     "data": {
      "image/png": "[encoded data removed]",
      "text/plain": [
       "<Figure size 1152x576 with 1 Axes>"
      ]
     },
     "metadata": {
      "needs_background": "light"
     },
     "output_type": "display_data"
    }
   ],
   "source": [
    "top_3_words = get_top_n_words(3, lsa_keys, document_term_matrix, tfidf_vectorizer)\n",
    "labels = ['Topic {}: \\n'.format(i) + top_3_words[i] for i in lsa_categories]\n",
    "\n",
    "fig, ax = plt.subplots(figsize=(16,8))\n",
    "ax.bar(lsa_categories, lsa_counts);\n",
    "ax.set_xticks(lsa_categories);\n",
    "ax.set_xticklabels(labels);\n",
    "ax.set_ylabel('title count');\n",
    "ax.set_title('LSA topic counts');\n",
    "plt.show();"
   ]
  },
  {
   "cell_type": "code",
   "execution_count": null,
   "metadata": {},
   "outputs": [],
   "source": [
    "selected_flairs = [\"AskIndia\", \"Non-Political\", \"[R]eddiquette\", \"Photography\", \"Science/Technology\", \"Politics\", \"Business/Finance\", \"Policy/Economy\", \"Sports\", \"Food\", \"AMA\", \"Coronavirus\"]\n",
    "balanced_data = pd.DataFrame()\n",
    "\n",
    "data = data[data.selftext.notnull()]\n",
    "data = data[data.comments.notnull()]\n",
    "data = data[data.url.notnull()]\n",
    "\n",
    "for item in selected_flairs:\n",
    "    temp = data[data.link_flair_text==item]\n",
    "    temp = temp.head(200)\n",
    "    balanced_data = pd.concat([balanced_data, temp], axis=0)\n",
    "    \n",
    "data = balanced_data"
   ]
  },
  {
   "cell_type": "markdown",
   "metadata": {},
   "source": [
    "### Data Cleaning"
   ]
  },
  {
   "cell_type": "markdown",
   "metadata": {},
   "source": [
    "#### For this balanced data set, our text cleaning step includes tokenizing the text, removing stop words, change text to lower case, remove punctuation, remove bad characters, and so on."
   ]
  },
  {
   "cell_type": "code",
   "execution_count": 42,
   "metadata": {},
   "outputs": [
    {
     "data": {
      "text/plain": [
       "721"
      ]
     },
     "execution_count": 42,
     "metadata": {},
     "output_type": "execute_result"
    }
   ],
   "source": [
    "# max length of title in each flair category\n",
    "len_title= int(data['title'].str.encode(encoding='utf-8').str.len().max())\n",
    "len_title"
   ]
  },
  {
   "cell_type": "code",
   "execution_count": 45,
   "metadata": {},
   "outputs": [
    {
     "data": {
      "text/plain": [
       "26790"
      ]
     },
     "execution_count": 45,
     "metadata": {},
     "output_type": "execute_result"
    }
   ],
   "source": [
    "# max length of selftext in each flair category\n",
    "len_comm = int(data['selftext'].str.encode(encoding='utf-8').str.len().max())\n",
    "len_comm"
   ]
  },
  {
   "cell_type": "code",
   "execution_count": 49,
   "metadata": {},
   "outputs": [],
   "source": [
    "STOPWORDS = set(stopwords.words('english'))"
   ]
  },
  {
   "cell_type": "code",
   "execution_count": 50,
   "metadata": {},
   "outputs": [],
   "source": [
    "def cleaning(text):\n",
    "    text = str(text).lower() \n",
    "    tokens  = word_tokenize(text)\n",
    "    text = ' '.join(word for word in tokens if word not in STOPWORDS and word.isalpha()) \n",
    "    return text\n",
    "\n",
    "\n",
    "\n",
    "def clean_url(url):\n",
    "    non_uselful = ['http', 'https', 'www', 'com', 'reddit']\n",
    "    add_ons = ['cms', 'comments', 'r', 'redd', 'google', 'amp', 'co', 'youtu', 'india', 'jpg', 'article', 'youtube', 'png', 'twitter']\n",
    "    non_uselful += add_ons\n",
    "    non_uselful = set(non_uselful)\n",
    "    delimiters = [':', '/', '_', '-', '.']\n",
    "    pattern = '|'.join(map(re.escape, delimiters))\n",
    "    try:\n",
    "        url = re.split(pattern,url)\n",
    "    except:\n",
    "        return ''\n",
    "    else:\n",
    "        url = ' '.join(word for word in url if word not in STOPWORDS and word.isalpha() and word not in non_uselful) \n",
    "        return url\n"
   ]
  },
  {
   "cell_type": "code",
   "execution_count": 51,
   "metadata": {},
   "outputs": [],
   "source": [
    "data['title'] = data['title'].apply(cleaning)\n",
    "data['selftext'] = data['selftext'].apply(cleaning)\n",
    "data['url'] = data['url'].apply(clean_url)\n",
    "data['comments'] = data['comments'].apply(cleaning)\n",
    "\n",
    "data['content'] = data['title'].str.cat(data['selftext'], sep =\" \") \n",
    "data['content'] = data['content'].str.cat(data['url'], sep =\" \") \n",
    "data['content'] = data['content'].str.cat(data['comments'], sep =\" \") "
   ]
  },
  {
   "cell_type": "code",
   "execution_count": 52,
   "metadata": {},
   "outputs": [
    {
     "data": {
      "text/plain": [
       "232"
      ]
     },
     "execution_count": 52,
     "metadata": {},
     "output_type": "execute_result"
    }
   ],
   "source": [
    "# max length of title of each flair after removing stop words\n",
    "len_title= int(data['title'].str.encode(encoding='utf-8').str.len().max())\n",
    "len_title"
   ]
  },
  {
   "cell_type": "code",
   "execution_count": 53,
   "metadata": {},
   "outputs": [
    {
     "data": {
      "text/plain": [
       "338775"
      ]
     },
     "execution_count": 53,
     "metadata": {},
     "output_type": "execute_result"
    }
   ],
   "source": [
    "# max length \n",
    "len_comm = int(data['comments'].str.encode(encoding='utf-8').str.len().max())\n",
    "len_comm"
   ]
  },
  {
   "cell_type": "code",
   "execution_count": 54,
   "metadata": {},
   "outputs": [],
   "source": [
    "data = data[data.content!='']\n",
    "data.reset_index(drop=True, inplace=True)"
   ]
  },
  {
   "cell_type": "markdown",
   "metadata": {},
   "source": [
    "## Part-3 Building a Flair Detector"
   ]
  },
  {
   "cell_type": "markdown",
   "metadata": {},
   "source": [
    "#### Random Forest showed the best testing accuracy of 78 when trained on the combination of content which is title + comments + Url + self_text feature.The dataset is split into 70% train and 30% test data using train-test-split of scikit-learn."
   ]
  },
  {
   "cell_type": "code",
   "execution_count": 55,
   "metadata": {},
   "outputs": [],
   "source": [
    "X = data.content\n",
    "y = data.link_flair_text\n",
    "X_train, X_test, y_train, y_test = train_test_split(X, y, test_size=0.3, random_state = 42)\n",
    "flairs = list(set(data.link_flair_text))"
   ]
  },
  {
   "cell_type": "markdown",
   "metadata": {},
   "source": [
    "## Naive-Bayes CLassifier"
   ]
  },
  {
   "cell_type": "code",
   "execution_count": 56,
   "metadata": {},
   "outputs": [
    {
     "name": "stdout",
     "output_type": "stream",
     "text": [
      "Accuracy 0.5915279878971256\n",
      "                    precision    recall  f1-score   support\n",
      "\n",
      "               AMA       0.50      0.85      0.63        67\n",
      "          Politics       0.40      0.48      0.44        54\n",
      "Science/Technology       0.54      0.68      0.60        59\n",
      "              Food       0.75      0.78      0.76        50\n",
      "     Non-Political       0.78      0.71      0.74        59\n",
      "    Policy/Economy       0.88      0.10      0.18        69\n",
      "       Coronavirus       0.98      0.63      0.77        71\n",
      "     [R]eddiquette       0.36      0.77      0.49        53\n",
      "            Sports       0.57      0.45      0.51        55\n",
      "       Photography       0.66      0.69      0.67        54\n",
      "          AskIndia       0.91      0.51      0.65        63\n",
      "  Business/Finance       0.00      0.00      0.00         7\n",
      "\n",
      "          accuracy                           0.59       661\n",
      "         macro avg       0.61      0.55      0.54       661\n",
      "      weighted avg       0.67      0.59      0.58       661\n",
      "\n"
     ]
    },
    {
     "name": "stderr",
     "output_type": "stream",
     "text": [
      "/home/sushmitha/.local/lib/python3.6/site-packages/sklearn/metrics/_classification.py:1272: UndefinedMetricWarning: Precision and F-score are ill-defined and being set to 0.0 in labels with no predicted samples. Use `zero_division` parameter to control this behavior.\n",
      "  _warn_prf(average, modifier, msg_start, len(result))\n"
     ]
    }
   ],
   "source": [
    "from sklearn.naive_bayes import MultinomialNB\n",
    "\n",
    "naivebayes = Pipeline([('vect', CountVectorizer()),\n",
    "               ('tfidf', TfidfTransformer()),\n",
    "               ('clf', MultinomialNB()),\n",
    "              ])\n",
    "\n",
    "naivebayes.fit(X_train, y_train)\n",
    "y_pred = naivebayes.predict(X_test)\n",
    "\n",
    "\n",
    "print('Accuracy %s' % accuracy_score(y_pred, y_test))\n",
    "\n",
    "print(classification_report(y_test, y_pred,target_names=flairs))"
   ]
  },
  {
   "cell_type": "markdown",
   "metadata": {},
   "source": [
    "## Linear Support Vector Machine Classifier"
   ]
  },
  {
   "cell_type": "code",
   "execution_count": 57,
   "metadata": {},
   "outputs": [
    {
     "name": "stdout",
     "output_type": "stream",
     "text": [
      "Accuracy 0.7443267776096822\n",
      "                    precision    recall  f1-score   support\n",
      "\n",
      "               AMA       0.83      0.88      0.86        67\n",
      "          Politics       0.60      0.59      0.60        54\n",
      "Science/Technology       0.77      0.73      0.75        59\n",
      "              Food       0.68      0.76      0.72        50\n",
      "     Non-Political       0.74      0.88      0.81        59\n",
      "    Policy/Economy       0.76      0.68      0.72        69\n",
      "       Coronavirus       0.93      0.87      0.90        71\n",
      "     [R]eddiquette       0.54      0.60      0.57        53\n",
      "            Sports       0.64      0.53      0.58        55\n",
      "       Photography       0.71      0.83      0.77        54\n",
      "          AskIndia       0.89      0.76      0.82        63\n",
      "  Business/Finance       1.00      0.71      0.83         7\n",
      "\n",
      "          accuracy                           0.74       661\n",
      "         macro avg       0.76      0.74      0.74       661\n",
      "      weighted avg       0.75      0.74      0.74       661\n",
      "\n"
     ]
    }
   ],
   "source": [
    "from sklearn.linear_model import SGDClassifier\n",
    "\n",
    "sgd = Pipeline([('vect', CountVectorizer()),\n",
    "                ('tfidf', TfidfTransformer()),\n",
    "                ('clf', SGDClassifier(loss='hinge', penalty='l2',alpha=1e-4, random_state=42,max_iter=100, tol=None)),\n",
    "               ])\n",
    "sgd.fit(X_train, y_train)\n",
    "\n",
    "\n",
    "y_pred = sgd.predict(X_test)\n",
    "\n",
    "print('Accuracy %s' % accuracy_score(y_pred, y_test))\n",
    "print(classification_report(y_test, y_pred,target_names=flairs))"
   ]
  },
  {
   "cell_type": "markdown",
   "metadata": {},
   "source": [
    "## Logistic Regression"
   ]
  },
  {
   "cell_type": "code",
   "execution_count": 58,
   "metadata": {},
   "outputs": [
    {
     "name": "stderr",
     "output_type": "stream",
     "text": [
      "/home/sushmitha/.local/lib/python3.6/site-packages/sklearn/linear_model/_logistic.py:940: ConvergenceWarning: lbfgs failed to converge (status=1):\n",
      "STOP: TOTAL NO. of ITERATIONS REACHED LIMIT.\n",
      "\n",
      "Increase the number of iterations (max_iter) or scale the data as shown in:\n",
      "    https://scikit-learn.org/stable/modules/preprocessing.html\n",
      "Please also refer to the documentation for alternative solver options:\n",
      "    https://scikit-learn.org/stable/modules/linear_model.html#logistic-regression\n",
      "  extra_warning_msg=_LOGISTIC_SOLVER_CONVERGENCE_MSG)\n"
     ]
    },
    {
     "name": "stdout",
     "output_type": "stream",
     "text": [
      "Accuracy 0.7413010590015129\n",
      "                    precision    recall  f1-score   support\n",
      "\n",
      "               AMA       0.81      0.85      0.83        67\n",
      "          Politics       0.53      0.56      0.54        54\n",
      "Science/Technology       0.75      0.71      0.73        59\n",
      "              Food       0.76      0.62      0.68        50\n",
      "     Non-Political       0.81      0.92      0.86        59\n",
      "    Policy/Economy       0.83      0.65      0.73        69\n",
      "       Coronavirus       0.95      0.87      0.91        71\n",
      "     [R]eddiquette       0.56      0.66      0.60        53\n",
      "            Sports       0.69      0.56      0.62        55\n",
      "       Photography       0.59      0.89      0.71        54\n",
      "          AskIndia       0.89      0.79      0.84        63\n",
      "  Business/Finance       1.00      0.71      0.83         7\n",
      "\n",
      "          accuracy                           0.74       661\n",
      "         macro avg       0.76      0.73      0.74       661\n",
      "      weighted avg       0.76      0.74      0.74       661\n",
      "\n"
     ]
    }
   ],
   "source": [
    "from sklearn.linear_model import LogisticRegression\n",
    "\n",
    "logreg = Pipeline([('vect', CountVectorizer()),\n",
    "                ('tfidf', TfidfTransformer()),\n",
    "                ('clf', LogisticRegression(n_jobs=1, C=1e5)),\n",
    "               ])\n",
    "logreg.fit(X_train, y_train)\n",
    "\n",
    "y_pred = logreg.predict(X_test)\n",
    "\n",
    "print('Accuracy %s' % accuracy_score(y_pred, y_test))\n",
    "print(classification_report(y_test, y_pred,target_names=flairs))"
   ]
  },
  {
   "cell_type": "markdown",
   "metadata": {},
   "source": [
    "## Random Forest Classifier"
   ]
  },
  {
   "cell_type": "code",
   "execution_count": 59,
   "metadata": {},
   "outputs": [
    {
     "name": "stdout",
     "output_type": "stream",
     "text": [
      "Accuracy 0.8063540090771558\n",
      "                    precision    recall  f1-score   support\n",
      "\n",
      "               AMA       0.78      0.94      0.85        67\n",
      "          Politics       0.84      0.67      0.74        54\n",
      "Science/Technology       0.80      0.68      0.73        59\n",
      "              Food       0.76      0.94      0.84        50\n",
      "     Non-Political       0.88      0.90      0.89        59\n",
      "    Policy/Economy       0.82      0.80      0.81        69\n",
      "       Coronavirus       0.94      0.93      0.94        71\n",
      "     [R]eddiquette       0.62      0.62      0.62        53\n",
      "            Sports       0.72      0.62      0.67        55\n",
      "       Photography       0.73      0.91      0.81        54\n",
      "          AskIndia       0.93      0.83      0.87        63\n",
      "  Business/Finance       1.00      0.71      0.83         7\n",
      "\n",
      "          accuracy                           0.81       661\n",
      "         macro avg       0.82      0.79      0.80       661\n",
      "      weighted avg       0.81      0.81      0.80       661\n",
      "\n"
     ]
    }
   ],
   "source": [
    "from sklearn.ensemble import RandomForestClassifier\n",
    "\n",
    "ranfor = Pipeline([('vect', CountVectorizer()),\n",
    "              ('tfidf', TfidfTransformer()),\n",
    "              ('clf', RandomForestClassifier(n_estimators = 1000, random_state = 42, max_depth=100)),\n",
    "             ])\n",
    "\n",
    "ranfor.fit(X_train, y_train)\n",
    "y_pred = ranfor.predict(X_test)\n",
    "\n",
    "\n",
    "print('Accuracy %s' % accuracy_score(y_pred, y_test))\n",
    "print(classification_report(y_test, y_pred,target_names=flairs))"
   ]
  },
  {
   "cell_type": "markdown",
   "metadata": {},
   "source": [
    "## Multi Layer Perceptron (MLP)"
   ]
  },
  {
   "cell_type": "code",
   "execution_count": 60,
   "metadata": {},
   "outputs": [
    {
     "name": "stdout",
     "output_type": "stream",
     "text": [
      "Accuracy 0.5885022692889561\n",
      "                    precision    recall  f1-score   support\n",
      "\n",
      "               AMA       0.80      0.52      0.63        67\n",
      "          Politics       0.33      0.35      0.34        54\n",
      "Science/Technology       0.65      0.58      0.61        59\n",
      "              Food       0.64      0.58      0.61        50\n",
      "     Non-Political       0.62      0.83      0.71        59\n",
      "    Policy/Economy       0.74      0.36      0.49        69\n",
      "       Coronavirus       0.86      0.76      0.81        71\n",
      "     [R]eddiquette       0.29      0.64      0.40        53\n",
      "            Sports       0.62      0.36      0.46        55\n",
      "       Photography       0.58      0.78      0.67        54\n",
      "          AskIndia       0.73      0.68      0.70        63\n",
      "  Business/Finance       1.00      0.71      0.83         7\n",
      "\n",
      "          accuracy                           0.59       661\n",
      "         macro avg       0.65      0.60      0.60       661\n",
      "      weighted avg       0.64      0.59      0.59       661\n",
      "\n"
     ]
    }
   ],
   "source": [
    "from sklearn.neural_network import MLPClassifier\n",
    "\n",
    "mlp = Pipeline([('vect', CountVectorizer()),\n",
    "                  ('tfidf', TfidfTransformer()),\n",
    "                  ('clf', MLPClassifier(hidden_layer_sizes=(30,30,30))),\n",
    "                 ])\n",
    "mlp.fit(X_train, y_train)\n",
    "\n",
    "y_pred = mlp.predict(X_test)\n",
    "   \n",
    "print('Accuracy %s' % accuracy_score(y_pred, y_test))\n",
    "print(classification_report(y_test, y_pred,target_names=flairs))"
   ]
  },
  {
   "cell_type": "markdown",
   "metadata": {},
   "source": [
    "## Bag of Words (BOW) with Keras"
   ]
  },
  {
   "cell_type": "code",
   "execution_count": null,
   "metadata": {},
   "outputs": [
    {
     "name": "stderr",
     "output_type": "stream",
     "text": [
      "/home/sushmitha/.local/lib/python3.6/site-packages/tensorflow/python/framework/dtypes.py:516: FutureWarning: Passing (type, 1) or '1type' as a synonym of type is deprecated; in a future version of numpy, it will be understood as (type, (1,)) / '(1,)type'.\n",
      "  _np_qint8 = np.dtype([(\"qint8\", np.int8, 1)])\n",
      "/home/sushmitha/.local/lib/python3.6/site-packages/tensorflow/python/framework/dtypes.py:517: FutureWarning: Passing (type, 1) or '1type' as a synonym of type is deprecated; in a future version of numpy, it will be understood as (type, (1,)) / '(1,)type'.\n",
      "  _np_quint8 = np.dtype([(\"quint8\", np.uint8, 1)])\n",
      "/home/sushmitha/.local/lib/python3.6/site-packages/tensorflow/python/framework/dtypes.py:518: FutureWarning: Passing (type, 1) or '1type' as a synonym of type is deprecated; in a future version of numpy, it will be understood as (type, (1,)) / '(1,)type'.\n",
      "  _np_qint16 = np.dtype([(\"qint16\", np.int16, 1)])\n",
      "/home/sushmitha/.local/lib/python3.6/site-packages/tensorflow/python/framework/dtypes.py:519: FutureWarning: Passing (type, 1) or '1type' as a synonym of type is deprecated; in a future version of numpy, it will be understood as (type, (1,)) / '(1,)type'.\n",
      "  _np_quint16 = np.dtype([(\"quint16\", np.uint16, 1)])\n",
      "/home/sushmitha/.local/lib/python3.6/site-packages/tensorflow/python/framework/dtypes.py:520: FutureWarning: Passing (type, 1) or '1type' as a synonym of type is deprecated; in a future version of numpy, it will be understood as (type, (1,)) / '(1,)type'.\n",
      "  _np_qint32 = np.dtype([(\"qint32\", np.int32, 1)])\n",
      "/home/sushmitha/.local/lib/python3.6/site-packages/tensorflow/python/framework/dtypes.py:525: FutureWarning: Passing (type, 1) or '1type' as a synonym of type is deprecated; in a future version of numpy, it will be understood as (type, (1,)) / '(1,)type'.\n",
      "  np_resource = np.dtype([(\"resource\", np.ubyte, 1)])\n",
      "/home/sushmitha/.local/lib/python3.6/site-packages/tensorboard/compat/tensorflow_stub/dtypes.py:541: FutureWarning: Passing (type, 1) or '1type' as a synonym of type is deprecated; in a future version of numpy, it will be understood as (type, (1,)) / '(1,)type'.\n",
      "  _np_qint8 = np.dtype([(\"qint8\", np.int8, 1)])\n",
      "/home/sushmitha/.local/lib/python3.6/site-packages/tensorboard/compat/tensorflow_stub/dtypes.py:542: FutureWarning: Passing (type, 1) or '1type' as a synonym of type is deprecated; in a future version of numpy, it will be understood as (type, (1,)) / '(1,)type'.\n",
      "  _np_quint8 = np.dtype([(\"quint8\", np.uint8, 1)])\n",
      "/home/sushmitha/.local/lib/python3.6/site-packages/tensorboard/compat/tensorflow_stub/dtypes.py:543: FutureWarning: Passing (type, 1) or '1type' as a synonym of type is deprecated; in a future version of numpy, it will be understood as (type, (1,)) / '(1,)type'.\n",
      "  _np_qint16 = np.dtype([(\"qint16\", np.int16, 1)])\n",
      "/home/sushmitha/.local/lib/python3.6/site-packages/tensorboard/compat/tensorflow_stub/dtypes.py:544: FutureWarning: Passing (type, 1) or '1type' as a synonym of type is deprecated; in a future version of numpy, it will be understood as (type, (1,)) / '(1,)type'.\n",
      "  _np_quint16 = np.dtype([(\"quint16\", np.uint16, 1)])\n",
      "/home/sushmitha/.local/lib/python3.6/site-packages/tensorboard/compat/tensorflow_stub/dtypes.py:545: FutureWarning: Passing (type, 1) or '1type' as a synonym of type is deprecated; in a future version of numpy, it will be understood as (type, (1,)) / '(1,)type'.\n",
      "  _np_qint32 = np.dtype([(\"qint32\", np.int32, 1)])\n",
      "/home/sushmitha/.local/lib/python3.6/site-packages/tensorboard/compat/tensorflow_stub/dtypes.py:550: FutureWarning: Passing (type, 1) or '1type' as a synonym of type is deprecated; in a future version of numpy, it will be understood as (type, (1,)) / '(1,)type'.\n",
      "  np_resource = np.dtype([(\"resource\", np.ubyte, 1)])\n",
      "Using TensorFlow backend.\n"
     ]
    },
    {
     "name": "stdout",
     "output_type": "stream",
     "text": [
      "WARNING:tensorflow:From /home/sushmitha/.local/lib/python3.6/site-packages/keras/backend/tensorflow_backend.py:422: The name tf.global_variables is deprecated. Please use tf.compat.v1.global_variables instead.\n",
      "\n",
      "Train on 1078 samples, validate on 463 samples\n",
      "Epoch 1/30\n",
      "1078/1078 [==============================] - 2s 2ms/step - loss: 2.4531 - accuracy: 0.1994 - val_loss: 1.9634 - val_accuracy: 0.5076\n",
      "Epoch 2/30\n",
      "1078/1078 [==============================] - 2s 2ms/step - loss: 1.5009 - accuracy: 0.6280 - val_loss: 1.6510 - val_accuracy: 0.5767\n",
      "Epoch 3/30\n",
      "1078/1078 [==============================] - 2s 2ms/step - loss: 0.7751 - accuracy: 0.8293 - val_loss: 1.4084 - val_accuracy: 0.6825\n",
      "Epoch 4/30\n",
      "1078/1078 [==============================] - 2s 1ms/step - loss: 0.5664 - accuracy: 0.8915 - val_loss: 1.9766 - val_accuracy: 0.6177\n",
      "Epoch 5/30\n",
      "1078/1078 [==============================] - 2s 1ms/step - loss: 0.3019 - accuracy: 0.9378 - val_loss: 1.7542 - val_accuracy: 0.6955\n",
      "Epoch 6/30\n",
      "1078/1078 [==============================] - 2s 2ms/step - loss: 0.3085 - accuracy: 0.9536 - val_loss: 1.9312 - val_accuracy: 0.6695\n",
      "Epoch 7/30\n",
      "1078/1078 [==============================] - 2s 2ms/step - loss: 0.2606 - accuracy: 0.9508 - val_loss: 2.8620 - val_accuracy: 0.6350\n",
      "Epoch 8/30\n",
      "1078/1078 [==============================] - 2s 2ms/step - loss: 0.3841 - accuracy: 0.9490 - val_loss: 2.2629 - val_accuracy: 0.6847\n",
      "Epoch 9/30\n",
      "1078/1078 [==============================] - 2s 2ms/step - loss: 0.3519 - accuracy: 0.9518 - val_loss: 2.1678 - val_accuracy: 0.6717\n",
      "Epoch 10/30\n",
      "1078/1078 [==============================] - 2s 2ms/step - loss: 0.2422 - accuracy: 0.9629 - val_loss: 4.2421 - val_accuracy: 0.6220\n",
      "Epoch 11/30\n",
      "1078/1078 [==============================] - 2s 2ms/step - loss: 0.3046 - accuracy: 0.9638 - val_loss: 3.1381 - val_accuracy: 0.6890\n",
      "Epoch 12/30\n",
      "1078/1078 [==============================] - 1s 1ms/step - loss: 0.3400 - accuracy: 0.9518 - val_loss: 3.4478 - val_accuracy: 0.6242\n",
      "Epoch 13/30\n",
      "1078/1078 [==============================] - 2s 1ms/step - loss: 0.2844 - accuracy: 0.9629 - val_loss: 3.8602 - val_accuracy: 0.5896\n",
      "Epoch 14/30\n",
      "1078/1078 [==============================] - 2s 2ms/step - loss: 0.3345 - accuracy: 0.9583 - val_loss: 2.9709 - val_accuracy: 0.6631\n",
      "Epoch 15/30\n",
      "1078/1078 [==============================] - 2s 2ms/step - loss: 0.1674 - accuracy: 0.9703 - val_loss: 3.0203 - val_accuracy: 0.6782\n",
      "Epoch 16/30\n",
      " 160/1078 [===>..........................] - ETA: 1s - loss: 0.1100 - accuracy: 0.9750"
     ]
    }
   ],
   "source": [
    "import itertools\n",
    "import os\n",
    "from sklearn.utils import shuffle\n",
    "import matplotlib.pyplot as plt\n",
    "import numpy as np\n",
    "import pandas as pd\n",
    "import tensorflow as tf\n",
    "from sklearn.preprocessing import LabelBinarizer, LabelEncoder\n",
    "from tensorflow import keras\n",
    "from keras.models import Sequential\n",
    "from keras.layers import Dense, Activation, Dropout\n",
    "from keras.preprocessing import text, sequence\n",
    "from keras import utils\n",
    "\n",
    "data = shuffle(data)\n",
    "train_size = int(len(data) * 0.7)\n",
    "train_posts = data['content'][:train_size]\n",
    "train_tags = data['link_flair_text'][:train_size]\n",
    "\n",
    "\n",
    "test_posts = data['content'][train_size:]\n",
    "test_tags = data['link_flair_text'][train_size:]\n",
    "\n",
    "max_words = 5000\n",
    "tokenize = text.Tokenizer(num_words=max_words, char_level=False)\n",
    "tokenize.fit_on_texts(train_posts) # only fit on train\n",
    "\n",
    "x_train = tokenize.texts_to_matrix(train_posts)\n",
    "x_test = tokenize.texts_to_matrix(test_posts)\n",
    "\n",
    "encoder = LabelEncoder()\n",
    "encoder.fit(train_tags)\n",
    "y_train = encoder.transform(train_tags)\n",
    "y_test = encoder.transform(test_tags)\n",
    "\n",
    "num_classes = np.max(y_train) + 1\n",
    "y_train = utils.to_categorical(y_train, num_classes)\n",
    "y_test = utils.to_categorical(y_test, num_classes)\n",
    "\n",
    "batch_size = 32\n",
    "epochs = 30\n",
    "\n",
    "# Build the model\n",
    "model = Sequential()\n",
    "model.add(Dense(512, input_shape=(max_words,)))\n",
    "model.add(Activation('relu'))\n",
    "model.add(Dense(128))\n",
    "model.add(Dropout(0.5))\n",
    "model.add(Dense(64))\n",
    "model.add(Dropout(0.5))\n",
    "model.add(Dense(num_classes))\n",
    "model.add(Activation('softmax'))\n",
    "\n",
    "model.compile(loss='categorical_crossentropy',\n",
    "              optimizer='adam',\n",
    "              metrics=['accuracy'])\n",
    "              \n",
    "history = model.fit(x_train, y_train,\n",
    "                    batch_size=batch_size,\n",
    "                    epochs=epochs,\n",
    "                    verbose=1,\n",
    "                    validation_split=0.3)\n",
    "score = model.evaluate(x_test, y_test,\n",
    "                       batch_size=batch_size, verbose=1)\n",
    "\n",
    "print('Test Accuracy:', score[1])"
   ]
  }
 ],
 "metadata": {
  "kernelspec": {
   "display_name": "Python 3",
   "language": "python",
   "name": "python3"
  },
  "language_info": {
   "codemirror_mode": {
    "name": "ipython",
    "version": 3
   },
   "file_extension": ".py",
   "mimetype": "text/x-python",
   "name": "python",
   "nbconvert_exporter": "python",
   "pygments_lexer": "ipython3",
   "version": "3.6.9"
  }
 },
 "nbformat": 4,
 "nbformat_minor": 4
}
